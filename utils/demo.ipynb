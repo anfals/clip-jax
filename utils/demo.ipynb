{
 "cells": [
  {
   "attachments": {},
   "cell_type": "markdown",
   "metadata": {},
   "source": [
    "# CLIP-JAX demo"
   ]
  },
  {
   "cell_type": "code",
   "execution_count": null,
   "metadata": {},
   "outputs": [],
   "source": [
    "from dataclasses import dataclass, field, asdict\n",
    "from typing import Any, Mapping\n",
    "from clip_jax import CLIPModel\n",
    "from clip_jax.partitions import logical_axis_rules\n",
    "from jax.experimental.mesh_utils import create_device_mesh\n",
    "from jax.sharding import Mesh, PartitionSpec, NamedSharding\n",
    "import jax\n",
    "import jax.numpy as jnp\n",
    "from functools import partial\n",
    "from jax.sharding import PartitionSpec\n",
    "from jax.experimental.pjit import pjit, with_sharding_constraint\n",
    "import json\n",
    "from flax.traverse_util import flatten_dict\n",
    "from clip_jax.utils import load_config, count_params\n",
    "import flax.linen as nn"
   ]
  },
  {
   "attachments": {},
   "cell_type": "markdown",
   "metadata": {},
   "source": [
    "## Create a model"
   ]
  },
  {
   "cell_type": "code",
   "execution_count": null,
   "metadata": {},
   "outputs": [],
   "source": [
    "@dataclass\n",
    "class CLIPConfig:\n",
    "    projection_dim: int\n",
    "    text_config: Mapping[str, Any] = field(default_factory=dict)\n",
    "    vision_config: Mapping[str, Any] = field(default_factory=dict)"
   ]
  },
  {
   "cell_type": "code",
   "execution_count": null,
   "metadata": {},
   "outputs": [],
   "source": [
    "config = CLIPConfig(\n",
    "    projection_dim=128,\n",
    "    text_config={\n",
    "        \"vocab_size\": 50000,\n",
    "        \"hidden_size\": 256,\n",
    "        \"max_position_embeddings\": 80,\n",
    "        \"num_layers\": 2,\n",
    "        \"use_rmsnorm\": True,\n",
    "        \"ln_type\": \"normformer\",\n",
    "        \"num_heads\": 8,\n",
    "        \"position_embedding_type\": \"rotary\",\n",
    "        \"use_causal_mask\": True,\n",
    "        \"mlp_dim\": 512,\n",
    "        \"activations\": (\"relu\", \"linear\"),\n",
    "    },\n",
    "    vision_config={\n",
    "        \"image_size\": 256,\n",
    "        \"hidden_size\": 256,\n",
    "        \"patch_size\": 16,\n",
    "        \"num_layers\": 2,\n",
    "        \"use_rmsnorm\": True,\n",
    "        \"ln_type\": \"normformer\",\n",
    "        \"num_heads\": 8,\n",
    "        \"use_causal_mask\": False,\n",
    "        \"mlp_dim\": 512,\n",
    "        \"activations\": (\"relu\", \"linear\"),\n",
    "    },\n",
    ")"
   ]
  },
  {
   "cell_type": "code",
   "execution_count": null,
   "metadata": {},
   "outputs": [],
   "source": [
    "model = CLIPModel(**asdict(config))"
   ]
  },
  {
   "cell_type": "code",
   "execution_count": null,
   "metadata": {},
   "outputs": [],
   "source": [
    "# inputs\n",
    "rng = jax.random.PRNGKey(0)\n",
    "model_inputs = model.init_inputs(rng)"
   ]
  },
  {
   "cell_type": "code",
   "execution_count": null,
   "metadata": {},
   "outputs": [],
   "source": [
    "# model summary\n",
    "tabulation = model.tabulate(\n",
    "    **model_inputs, console_kwargs={\"width\": 400, \"force_terminal\": False, \"force_jupyter\": False}\n",
    ")\n",
    "# write to a file (too long to be displayed in the notebook)\n",
    "with open(\"summary.md\", \"w\") as f:\n",
    "    f.write(tabulation)"
   ]
  },
  {
   "cell_type": "code",
   "execution_count": null,
   "metadata": {},
   "outputs": [],
   "source": [
    "# extract full config\n",
    "config = {k: v for k, v in asdict(model).items() if k not in [\"parent\", \"name\"]}\n",
    "config"
   ]
  },
  {
   "cell_type": "code",
   "execution_count": null,
   "metadata": {},
   "outputs": [],
   "source": [
    "# save config\n",
    "with open(\"config.json\", \"w\") as f:\n",
    "    f.write(json.dumps(config, indent=4))"
   ]
  },
  {
   "attachments": {},
   "cell_type": "markdown",
   "metadata": {},
   "source": [
    "## Instantiate a model"
   ]
  },
  {
   "cell_type": "code",
   "execution_count": null,
   "metadata": {},
   "outputs": [],
   "source": [
    "# load a config\n",
    "model_path = \"../configs/huge-patch16.json\"\n",
    "config = load_config(model_path)"
   ]
  },
  {
   "cell_type": "code",
   "execution_count": null,
   "metadata": {},
   "outputs": [],
   "source": [
    "# instantiate model\n",
    "model = CLIPModel(**config)"
   ]
  },
  {
   "cell_type": "code",
   "execution_count": null,
   "metadata": {},
   "outputs": [],
   "source": [
    "# create inputs\n",
    "rng = jax.random.PRNGKey(0)\n",
    "model_inputs = model.init_inputs(rng)"
   ]
  },
  {
   "cell_type": "code",
   "execution_count": null,
   "metadata": {},
   "outputs": [],
   "source": [
    "# get logical params\n",
    "logical_params = jax.eval_shape(lambda inputs: model.init(**inputs), model_inputs)[\"params\"]"
   ]
  },
  {
   "cell_type": "code",
   "execution_count": null,
   "metadata": {},
   "outputs": [],
   "source": [
    "# Number of parameters\n",
    "print(f\"Number of parameters: {count_params(logical_params):,}\")\n",
    "for k, v in logical_params.items():\n",
    "    print(f\"{k}: {count_params(v):,}\")"
   ]
  },
  {
   "cell_type": "code",
   "execution_count": null,
   "metadata": {},
   "outputs": [],
   "source": [
    "# get logical spec\n",
    "logical_spec = nn.get_partition_spec(logical_params)"
   ]
  },
  {
   "cell_type": "code",
   "execution_count": null,
   "metadata": {},
   "outputs": [],
   "source": [
    "# view all logical axes\n",
    "logical_axes = {i for s in flatten_dict(logical_spec).values() for i in s}\n",
    "logical_axes"
   ]
  },
  {
   "cell_type": "code",
   "execution_count": null,
   "metadata": {},
   "outputs": [],
   "source": [
    "# we can manually check params shape, type and axes\n",
    "for (shape_k, shape_v), (_, axis_v) in zip(flatten_dict(logical_params).items(), flatten_dict(logical_spec).items()):\n",
    "    # shape, axis, parameter count\n",
    "    print(shape_k, shape_v.value.dtype, shape_v.value.shape, axis_v, f\"{count_params({shape_k: shape_v}):,}\")"
   ]
  },
  {
   "cell_type": "code",
   "execution_count": null,
   "metadata": {},
   "outputs": [],
   "source": [
    "# get partitioning rules\n",
    "rules = logical_axis_rules(activation_partitioning_dims=1, parameter_partitioning_dims=2)"
   ]
  },
  {
   "cell_type": "code",
   "execution_count": null,
   "metadata": {},
   "outputs": [],
   "source": [
    "# get params spec\n",
    "params_spec = nn.logical_to_mesh(logical_spec, rules)"
   ]
  },
  {
   "cell_type": "code",
   "execution_count": null,
   "metadata": {},
   "outputs": [],
   "source": [
    "# data spec\n",
    "data_spec = PartitionSpec(\"data\")"
   ]
  },
  {
   "cell_type": "code",
   "execution_count": null,
   "metadata": {},
   "outputs": [],
   "source": [
    "# create mesh\n",
    "mp_devices = 1\n",
    "dp_devices = jax.local_device_count() // 1\n",
    "dev_mesh = create_device_mesh((dp_devices, 1))\n",
    "mesh = Mesh(dev_mesh, (\"data\", \"model\"))"
   ]
  },
  {
   "cell_type": "code",
   "execution_count": null,
   "metadata": {},
   "outputs": [],
   "source": [
    "@partial(pjit, in_shardings=None, out_shardings=params_spec)\n",
    "def init_params():\n",
    "    params = model.init(**model_inputs)[\"params\"]\n",
    "    return params"
   ]
  },
  {
   "cell_type": "code",
   "execution_count": null,
   "metadata": {},
   "outputs": [],
   "source": [
    "with mesh:\n",
    "    params = init_params()"
   ]
  },
  {
   "cell_type": "code",
   "execution_count": null,
   "metadata": {},
   "outputs": [],
   "source": []
  }
 ],
 "metadata": {
  "kernelspec": {
   "display_name": "dev",
   "language": "python",
   "name": "python3"
  },
  "language_info": {
   "codemirror_mode": {
    "name": "ipython",
    "version": 3
   },
   "file_extension": ".py",
   "mimetype": "text/x-python",
   "name": "python",
   "nbconvert_exporter": "python",
   "pygments_lexer": "ipython3",
   "version": "3.9.15"
  },
  "orig_nbformat": 4
 },
 "nbformat": 4,
 "nbformat_minor": 2
}
