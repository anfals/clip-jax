{
 "cells": [
  {
   "attachments": {},
   "cell_type": "markdown",
   "metadata": {},
   "source": [
    "# CLIP-JAX demo"
   ]
  },
  {
   "cell_type": "code",
   "execution_count": 1,
   "metadata": {},
   "outputs": [],
   "source": [
    "from dataclasses import dataclass, field, asdict\n",
    "from typing import Any, Mapping\n",
    "from clip_jax import CLIPModel\n",
    "import jax\n",
    "import jax.numpy as jnp\n",
    "from jax.sharding import PartitionSpec\n",
    "from flax.traverse_util import flatten_dict"
   ]
  },
  {
   "attachments": {},
   "cell_type": "markdown",
   "metadata": {},
   "source": [
    "## Create a model"
   ]
  },
  {
   "cell_type": "code",
   "execution_count": 2,
   "metadata": {},
   "outputs": [],
   "source": [
    "@dataclass\n",
    "class CLIPConfig:\n",
    "    projection_dim: int\n",
    "    text_config: Mapping[str, Any] = field(default_factory=dict)\n",
    "    vision_config: Mapping[str, Any] = field(default_factory=dict)"
   ]
  },
  {
   "cell_type": "code",
   "execution_count": 4,
   "metadata": {},
   "outputs": [],
   "source": [
    "config = CLIPConfig(\n",
    "    projection_dim=128,\n",
    "    text_config={\n",
    "        \"vocab_size\": 50000,\n",
    "        \"hidden_size\": 256,\n",
    "        \"max_position_embeddings\": 80,\n",
    "        \"num_layers\": 2,\n",
    "        \"use_rmsnorm\": True,\n",
    "        \"ln_type\": \"normformer\",\n",
    "        \"num_heads\": 8,\n",
    "        \"position_embedding_type\": \"rotary\",\n",
    "        \"use_causal_mask\": False,\n",
    "        \"mlp_dim\": 512,\n",
    "        \"activations\": (\"relu\", \"linear\"),\n",
    "    },\n",
    "    vision_config={\n",
    "        \"image_size\": 256,\n",
    "        \"hidden_size\": 256,\n",
    "        \"patch_size\": 16,\n",
    "        \"num_layers\": 2,\n",
    "        \"use_rmsnorm\": True,\n",
    "        \"ln_type\": \"normformer\",\n",
    "        \"num_heads\": 8,\n",
    "        \"use_causal_mask\": False,\n",
    "        \"mlp_dim\": 512,\n",
    "        \"activations\": (\"relu\", \"linear\"),\n",
    "    },\n",
    ")"
   ]
  },
  {
   "cell_type": "code",
   "execution_count": 5,
   "metadata": {},
   "outputs": [],
   "source": [
    "model = CLIPModel(**asdict(config))"
   ]
  },
  {
   "cell_type": "code",
   "execution_count": 6,
   "metadata": {},
   "outputs": [],
   "source": [
    "# inputs\n",
    "rng = jax.random.PRNGKey(0)\n",
    "model_inputs = model.init_inputs(rng, model)"
   ]
  },
  {
   "cell_type": "code",
   "execution_count": 26,
   "metadata": {},
   "outputs": [],
   "source": [
    "# model summary\n",
    "tabulation = model.tabulate(\n",
    "    **model_inputs, console_kwargs={\"width\": 400, \"force_terminal\": False, \"force_jupyter\": False}\n",
    ")\n",
    "# write to a file (too long to be displayed in the notebook)\n",
    "with open(\"summary.md\", \"w\") as f:\n",
    "    f.write(tabulation)"
   ]
  },
  {
   "cell_type": "code",
   "execution_count": 24,
   "metadata": {},
   "outputs": [],
   "source": []
  },
  {
   "cell_type": "code",
   "execution_count": null,
   "metadata": {},
   "outputs": [],
   "source": []
  },
  {
   "cell_type": "code",
   "execution_count": null,
   "metadata": {},
   "outputs": [],
   "source": []
  }
 ],
 "metadata": {
  "kernelspec": {
   "display_name": "dev",
   "language": "python",
   "name": "python3"
  },
  "language_info": {
   "codemirror_mode": {
    "name": "ipython",
    "version": 3
   },
   "file_extension": ".py",
   "mimetype": "text/x-python",
   "name": "python",
   "nbconvert_exporter": "python",
   "pygments_lexer": "ipython3",
   "version": "3.9.15"
  },
  "orig_nbformat": 4
 },
 "nbformat": 4,
 "nbformat_minor": 2
}
